{
 "cells": [
  {
   "cell_type": "code",
   "execution_count": 1,
   "metadata": {
    "ExecuteTime": {
     "end_time": "2019-12-26T09:20:03.580339Z",
     "start_time": "2019-12-26T09:20:03.570201Z"
    }
   },
   "outputs": [
    {
     "name": "stderr",
     "output_type": "stream",
     "text": [
      "/Users/maxim/anaconda3/lib/python3.7/site-packages/tqdm/autonotebook/__init__.py:18: TqdmExperimentalWarning: Using `tqdm.autonotebook.tqdm` in notebook mode. Use `tqdm.tqdm` instead to force console mode (e.g. in jupyter console)\n",
      "  \" (e.g. in jupyter console)\", TqdmExperimentalWarning)\n"
     ]
    }
   ],
   "source": [
    "import pickle\n",
    "import difflib\n",
    "from tqdm.autonotebook import tqdm"
   ]
  },
  {
   "cell_type": "code",
   "execution_count": 2,
   "metadata": {
    "ExecuteTime": {
     "end_time": "2019-12-26T09:20:04.006226Z",
     "start_time": "2019-12-26T09:20:03.984782Z"
    },
    "code_folding": []
   },
   "outputs": [],
   "source": [
    "SOS_token = 0\n",
    "EOS_token = 1\n",
    "\n",
    "\n",
    "class Lang(object):\n",
    "    def __init__(self, name, n=5, threshold=10):\n",
    "        self.name = name\n",
    "        self.word2int = {}\n",
    "        self.word2count = {}\n",
    "        self.int2count = {}\n",
    "        self.int2word = {SOS_token: \"SOS\", EOS_token: \"EOS\"}\n",
    "        self.n_words = 2\n",
    "        self.n = 5\n",
    "        self.threshold = threshold\n",
    "\n",
    "    def addWord(self, word):\n",
    "        if word not in self.word2int:\n",
    "            self.word2int[word] = self.n_words\n",
    "            self.word2count[word] = 1\n",
    "            self.int2count[self.n_words] = 1\n",
    "            self.int2word[self.n_words] = word\n",
    "            self.n_words += 1\n",
    "        else:\n",
    "            self.word2count[word] += 1\n",
    "            self.int2count[self.word2int[word]] += 1\n",
    "\n",
    "    def addSentence(self, sentence):\n",
    "        words = sentence.split(\" \")\n",
    "        for word in words:\n",
    "            self.addWord(word)\n",
    "\n",
    "    def word2valid(self, word):\n",
    "        i = self.word2int[word]\n",
    "        if i in self.valid:\n",
    "            return self.valid2int[i]\n",
    "        else:\n",
    "            print('Not valid')\n",
    "            return 0\n",
    "\n",
    "    def valid2word(self, v):\n",
    "        return self.int2word[self.int2valid[v]]\n",
    "\n",
    "    def addText(self, sentences):\n",
    "        for sentence in sentences:\n",
    "            self.addSentence(sentence)\n",
    "        tmp = [np.array([0]), np.array([0])]\n",
    "        for i in range(2, self.n_words):\n",
    "            tmp.append(\n",
    "                np.zeros(self.word2count[self.int2word[i]] * self.n * 2,\n",
    "                         dtype=np.int))\n",
    "        self.int2context = np.array(tmp)\n",
    "        tmp = np.zeros(len(tmp), dtype=np.int)\n",
    "        for sentence in tqdm(sentences):\n",
    "            words = sentence.split(\" \")\n",
    "            words = [self.word2int[i] for i in words]\n",
    "            for i, w in enumerate(tqdm(words, leave=False)):\n",
    "                if self.word2count[self.int2word[w]] > self.threshold:\n",
    "                    for j in range(max(i - self.n, 0), i):\n",
    "                        self.int2context[w][\n",
    "                            tmp[w]] = words[j] if self.int2count[\n",
    "                                words[j]] > self.threshold else 0\n",
    "                        tmp[w] += 1\n",
    "                    for j in range(i + 1, min(len(words), i + 1 + self.n)):\n",
    "                        self.int2context[w][\n",
    "                            tmp[w]] = words[j] if self.int2count[\n",
    "                                words[j]] > self.threshold else 0\n",
    "                        tmp[w] += 1\n",
    "        for i in range(2, self.n_words):\n",
    "            self.int2context[i] = self.int2context[i][self.int2context[i] != 0]\n",
    "        self.valid = []\n",
    "        for i in range(2, self.n_words):\n",
    "            if self.int2count[i] > self.threshold:\n",
    "                self.valid.append(i)\n",
    "        self.n_valid = len(self.valid)\n",
    "        self.int2valid = {}\n",
    "        self.valid2int = {}\n",
    "        for i, v in enumerate(self.valid):\n",
    "            self.valid2int[v] = i\n",
    "            self.int2valid[i] = v\n",
    "        self.valid2context = self.int2context[self.valid]\n",
    "        for i in tqdm(range(len(self.valid2context))):\n",
    "            for j in tqdm(range(len(self.valid2context[i])), leave=False):\n",
    "                self.valid2context[i][j] = self.valid2int[self.valid2context[i]\n",
    "                                                          [j]]"
   ]
  },
  {
   "cell_type": "code",
   "execution_count": 3,
   "metadata": {
    "ExecuteTime": {
     "end_time": "2019-12-26T09:20:05.581214Z",
     "start_time": "2019-12-26T09:20:05.150851Z"
    }
   },
   "outputs": [],
   "source": [
    "f = open('lang.pkl', 'rb')\n",
    "lang = pickle.load(f)"
   ]
  },
  {
   "cell_type": "code",
   "execution_count": 7,
   "metadata": {
    "ExecuteTime": {
     "end_time": "2019-12-26T09:22:59.453248Z",
     "start_time": "2019-12-26T09:22:59.446945Z"
    }
   },
   "outputs": [
    {
     "ename": "TypeError",
     "evalue": "'dict' object is not callable",
     "output_type": "error",
     "traceback": [
      "\u001b[0;31m---------------------------------------------------------------------------\u001b[0m",
      "\u001b[0;31mTypeError\u001b[0m                                 Traceback (most recent call last)",
      "\u001b[0;32m<ipython-input-7-722569fa2fb2>\u001b[0m in \u001b[0;36m<module>\u001b[0;34m\u001b[0m\n\u001b[0;32m----> 1\u001b[0;31m \u001b[0mlang\u001b[0m\u001b[0;34m.\u001b[0m\u001b[0mword2int\u001b[0m\u001b[0;34m(\u001b[0m\u001b[0;34m\"hermione\"\u001b[0m\u001b[0;34m)\u001b[0m\u001b[0;34m\u001b[0m\u001b[0;34m\u001b[0m\u001b[0m\n\u001b[0m",
      "\u001b[0;31mTypeError\u001b[0m: 'dict' object is not callable"
     ]
    }
   ],
   "source": [
    "lang.word2int(\"hermione\")"
   ]
  },
  {
   "cell_type": "code",
   "execution_count": null,
   "metadata": {},
   "outputs": [],
   "source": []
  },
  {
   "cell_type": "code",
   "execution_count": null,
   "metadata": {},
   "outputs": [],
   "source": []
  },
  {
   "cell_type": "code",
   "execution_count": 4,
   "metadata": {
    "ExecuteTime": {
     "end_time": "2019-12-02T23:12:00.503753Z",
     "start_time": "2019-12-02T23:12:00.172442Z"
    }
   },
   "outputs": [],
   "source": [
    "from rewrite import rewrite"
   ]
  },
  {
   "cell_type": "code",
   "execution_count": 5,
   "metadata": {
    "ExecuteTime": {
     "end_time": "2019-12-02T23:12:02.044919Z",
     "start_time": "2019-12-02T23:12:01.850025Z"
    }
   },
   "outputs": [
    {
     "data": {
      "application/vnd.jupyter.widget-view+json": {
       "model_id": "6e12d89532404f169b22993a8b2b8a46",
       "version_major": 2,
       "version_minor": 0
      },
      "text/plain": [
       "HBox(children=(IntProgress(value=0, max=57570), HTML(value='')))"
      ]
     },
     "metadata": {},
     "output_type": "display_data"
    },
    {
     "name": "stdout",
     "output_type": "stream",
     "text": [
      "\n"
     ]
    }
   ],
   "source": [
    "mod = rewrite(lang, path2dict=\"enwiki_2017_08_20_trimmed.dict\")"
   ]
  },
  {
   "cell_type": "code",
   "execution_count": 6,
   "metadata": {
    "ExecuteTime": {
     "end_time": "2019-12-02T23:47:22.211748Z",
     "start_time": "2019-12-02T23:12:02.785563Z"
    },
    "cell_style": "center",
    "scrolled": true
   },
   "outputs": [
    {
     "data": {
      "application/vnd.jupyter.widget-view+json": {
       "model_id": "1dc1d08251494277ae8bffc43ad10248",
       "version_major": 2,
       "version_minor": 0
      },
      "text/plain": [
       "HBox(children=(IntProgress(value=0, max=11446), HTML(value='')))"
      ]
     },
     "metadata": {},
     "output_type": "display_data"
    },
    {
     "name": "stdout",
     "output_type": "stream",
     "text": [
      "\n"
     ]
    }
   ],
   "source": [
    "ans = mod.get_sim()"
   ]
  },
  {
   "cell_type": "code",
   "execution_count": 7,
   "metadata": {
    "ExecuteTime": {
     "end_time": "2019-12-02T23:47:43.565007Z",
     "start_time": "2019-12-02T23:47:43.556220Z"
    }
   },
   "outputs": [
    {
     "data": {
      "text/plain": [
       "[['suckin', 'sucking', 0.9230769230769231],\n",
       " ['prefrerred', 'preferred', 0.9473684210526315],\n",
       " ['sanything', 'anything', 0.9411764705882353],\n",
       " ['corrrect', 'correct', 0.9333333333333333],\n",
       " ['forenoons', 'forenoon', 0.9411764705882353],\n",
       " ['alrigh', 'alright', 0.9230769230769231],\n",
       " ['soounds', 'sounds', 0.9230769230769231],\n",
       " ['leter', 'letter', 0.9090909090909091],\n",
       " ['piercer', 'pierce', 0.9230769230769231],\n",
       " ['tcickets', 'tickets', 0.9333333333333333]]"
      ]
     },
     "execution_count": 7,
     "metadata": {},
     "output_type": "execute_result"
    }
   ],
   "source": [
    "ans[:10]"
   ]
  },
  {
   "cell_type": "code",
   "execution_count": 8,
   "metadata": {
    "ExecuteTime": {
     "end_time": "2019-12-02T23:50:17.006999Z",
     "start_time": "2019-12-02T23:50:16.934575Z"
    }
   },
   "outputs": [],
   "source": [
    "with open(\"rewrite.pkl\", \"wb\") as fout:\n",
    "    pickle.dump(mod, fout)"
   ]
  },
  {
   "cell_type": "code",
   "execution_count": 9,
   "metadata": {
    "ExecuteTime": {
     "end_time": "2019-12-02T23:52:19.984930Z",
     "start_time": "2019-12-02T23:52:19.954260Z"
    }
   },
   "outputs": [],
   "source": [
    "with open(\"./data/data.txt\", \"r\") as fout:\n",
    "    data = fout.read()"
   ]
  },
  {
   "cell_type": "code",
   "execution_count": 10,
   "metadata": {
    "ExecuteTime": {
     "end_time": "2019-12-02T23:53:13.495335Z",
     "start_time": "2019-12-02T23:52:46.875467Z"
    }
   },
   "outputs": [
    {
     "data": {
      "application/vnd.jupyter.widget-view+json": {
       "model_id": "b1a6216d3ef047e69417cb0653b89390",
       "version_major": 2,
       "version_minor": 0
      },
      "text/plain": [
       "HBox(children=(IntProgress(value=0, max=1774), HTML(value='')))"
      ]
     },
     "metadata": {},
     "output_type": "display_data"
    },
    {
     "name": "stdout",
     "output_type": "stream",
     "text": [
      "\n"
     ]
    }
   ],
   "source": [
    "data = rewrite.clean_text(data, ans)"
   ]
  },
  {
   "cell_type": "code",
   "execution_count": 11,
   "metadata": {
    "ExecuteTime": {
     "end_time": "2019-12-02T23:54:07.260712Z",
     "start_time": "2019-12-02T23:54:07.245341Z"
    }
   },
   "outputs": [],
   "source": [
    "with open(\"./data/data.txt\", \"w\") as fout:\n",
    "    fout.write(data)"
   ]
  },
  {
   "cell_type": "code",
   "execution_count": 15,
   "metadata": {
    "ExecuteTime": {
     "end_time": "2019-12-03T12:57:33.437406Z",
     "start_time": "2019-12-03T12:57:25.841513Z"
    }
   },
   "outputs": [],
   "source": [
    "with open(\"./data/kaggle_text_2_prep.txt\", \"r\") as fout:\n",
    "    data = fout.read()"
   ]
  },
  {
   "cell_type": "code",
   "execution_count": 16,
   "metadata": {
    "ExecuteTime": {
     "end_time": "2019-12-03T14:23:45.395957Z",
     "start_time": "2019-12-03T12:57:34.163777Z"
    }
   },
   "outputs": [
    {
     "data": {
      "application/vnd.jupyter.widget-view+json": {
       "model_id": "b077a62ab09e4d80a0dacbdf78989b4e",
       "version_major": 2,
       "version_minor": 0
      },
      "text/plain": [
       "HBox(children=(IntProgress(value=0, max=1774), HTML(value='')))"
      ]
     },
     "metadata": {},
     "output_type": "display_data"
    },
    {
     "name": "stdout",
     "output_type": "stream",
     "text": [
      "\n"
     ]
    }
   ],
   "source": [
    "data = rewrite.clean_text(data, ans)\n",
    "with open(\"./data/kaggle_text_2_prep.txt\", \"w\") as fout:\n",
    "    fout.write(data)"
   ]
  },
  {
   "cell_type": "code",
   "execution_count": null,
   "metadata": {},
   "outputs": [],
   "source": []
  }
 ],
 "metadata": {
  "kernelspec": {
   "display_name": "Python 3",
   "language": "python",
   "name": "python3"
  },
  "language_info": {
   "codemirror_mode": {
    "name": "ipython",
    "version": 3
   },
   "file_extension": ".py",
   "mimetype": "text/x-python",
   "name": "python",
   "nbconvert_exporter": "python",
   "pygments_lexer": "ipython3",
   "version": "3.7.3"
  },
  "varInspector": {
   "cols": {
    "lenName": 16,
    "lenType": 16,
    "lenVar": 40
   },
   "kernels_config": {
    "python": {
     "delete_cmd_postfix": "",
     "delete_cmd_prefix": "del ",
     "library": "var_list.py",
     "varRefreshCmd": "print(var_dic_list())"
    },
    "r": {
     "delete_cmd_postfix": ") ",
     "delete_cmd_prefix": "rm(",
     "library": "var_list.r",
     "varRefreshCmd": "cat(var_dic_list()) "
    }
   },
   "position": {
    "height": "465px",
    "left": "848px",
    "right": "20px",
    "top": "120px",
    "width": "456px"
   },
   "types_to_exclude": [
    "module",
    "function",
    "builtin_function_or_method",
    "instance",
    "_Feature"
   ],
   "window_display": false
  }
 },
 "nbformat": 4,
 "nbformat_minor": 2
}
